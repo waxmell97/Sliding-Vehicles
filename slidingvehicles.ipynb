{
 "cells": [
  {
   "cell_type": "markdown",
   "id": "9dab00f1-ea03-4a09-b8ae-c4b4b4bc5cc6",
   "metadata": {},
   "source": [
    "# When Sedans and Trucks Start to Slide\n",
    "\n",
    "In this project we are going to calculate when vehiucles start to slide on ice or snow is bad weather. The vehicle will start to slide when the brake force applied is more than the traction force. \n",
    "\n",
    "**Import Libraries**\n",
    "\n",
    "We are going to display the data from this simulation in a dataframe, and visualize how speed impacts brake force. For this we are going to need the pandas and matplotlib.pyplot libraries."
   ]
  },
  {
   "cell_type": "code",
   "execution_count": 64,
   "id": "ff6015dd-ccfe-4c87-bf8c-90f62d0f16e1",
   "metadata": {
    "tags": []
   },
   "outputs": [],
   "source": [
    "import pandas as pd\n",
    "import matplotlib.pyplot as plt"
   ]
  },
  {
   "cell_type": "markdown",
   "id": "8ab79120-48f6-4182-ac5c-db471d75ca5f",
   "metadata": {},
   "source": [
    "**Create Classes for Vehicles & Snowstorms**\n",
    "\n",
    "We are going to assign the correct masses and friction levels by creating reusable variables later."
   ]
  },
  {
   "cell_type": "code",
   "execution_count": 65,
   "id": "908c4357-34e6-4f37-b589-fb3ab73df591",
   "metadata": {
    "tags": []
   },
   "outputs": [],
   "source": [
    "class Vehicle:\n",
    "    def __init__(self, mass):\n",
    "        self.mass = mass\n",
    "\n",
    "class Sedan(Vehicle):\n",
    "    pass\n",
    "\n",
    "class Truck(Vehicle):\n",
    "    pass\n",
    "\n",
    "class Snowstorm:\n",
    "    def __init__(self, friction):\n",
    "        self.friction = friction"
   ]
  },
  {
   "cell_type": "markdown",
   "id": "5a550027-946d-40d6-9043-340cdddc2d84",
   "metadata": {},
   "source": [
    "**Calculate Brake Force and Maximum Traction**\n",
    "\n",
    "You calculate the brake force by halving the vehicle mass and multiplying that by speed squared and then dividing that by the distance traveled. This expirement is conducted with 100 meters, or 109 yards. Think of roughly a football field, or a football field plus an endzone. The traction is calculated by multiplying the friction leves the snowstorm creates by the mass of the vehicle multiplied by the force of gravity. \n"
   ]
  },
  {
   "cell_type": "code",
   "execution_count": 66,
   "id": "842113ab-1efb-49ac-a07d-4153edd72adb",
   "metadata": {
    "tags": []
   },
   "outputs": [],
   "source": [
    "def will_vehicle_slide(vehicle, speed, distance, snowstorm):\n",
    "    brake_force = (vehicle.mass / 2) * speed ** 2 / distance\n",
    "    max_traction_force = snowstorm.friction * vehicle.mass * 9.81\n",
    "    slide = brake_force > max_traction_force\n",
    "    return slide, brake_force, max_traction_force"
   ]
  },
  {
   "cell_type": "markdown",
   "id": "cfee6970-de2d-4cd9-a598-c1a667ee9d2a",
   "metadata": {},
   "source": [
    "**Unit Conversion**\n",
    "\n",
    "This expirement originally was conducted over 100 meters with speed increased by meters pet second. These function convert meters into yards and meters per socond into miles per hour."
   ]
  },
  {
   "cell_type": "code",
   "execution_count": 67,
   "id": "32deb959-48f7-44e0-8e60-f79a9ddcca43",
   "metadata": {
    "tags": []
   },
   "outputs": [],
   "source": [
    "def convert_mps_to_mph(speed_mps):\n",
    "    return speed_mps * 2.23694\n",
    "\n",
    "def convert_meters_to_yards(meters):\n",
    "    return meters * 1.09361"
   ]
  },
  {
   "cell_type": "markdown",
   "id": "c358ef9d-6bc3-4351-9961-ea5caeb87d14",
   "metadata": {},
   "source": [
    "**Create Snowstorms**\n",
    "\n",
    "Here we assign a light snowstorm a friction level of .3, and moderate snowstorm with a friction level of .2, and a heavy snowfall with a friction level of .1. We place these storms into sublists with the appropriate string to be accessed. This will help us display our data in a more organized fashion."
   ]
  },
  {
   "cell_type": "code",
   "execution_count": 68,
   "id": "8ebaf3b5-00e3-4cbc-9c4c-97eaa6a77ecf",
   "metadata": {
    "tags": []
   },
   "outputs": [],
   "source": [
    "light_snowstorm = Snowstorm(friction=0.3)\n",
    "moderate_snowstorm = Snowstorm(friction=0.2)\n",
    "heavy_snowstorm = Snowstorm(friction=0.1)\n",
    "snowstorms = [[light_snowstorm, 'Light Snow'], [moderate_snowstorm, 'Moderate Snow'], [heavy_snowstorm, 'Heavy Snow Fall']]"
   ]
  },
  {
   "cell_type": "markdown",
   "id": "8cc39f55-5511-47e9-af5c-c119ea7e0a5d",
   "metadata": {},
   "source": [
    "**Create Vehicles**\n",
    "\n",
    "Sedans on average have a mass of 1.200kg - 1,800kg, so I gave them an average of 1,500kg. Trucks have a more diverse size range on average ranging between 1,800kg-2,700kg, ao I assigned the class 2,250kg to find a happy avrage and test the equations more complex number handling. "
   ]
  },
  {
   "cell_type": "code",
   "execution_count": 69,
   "id": "c560306c-c205-4ef5-b50d-f2e99d0d5e31",
   "metadata": {
    "tags": []
   },
   "outputs": [],
   "source": [
    "sedan = Sedan(mass=1500)\n",
    "truck = Truck(mass=2250)"
   ]
  },
  {
   "cell_type": "markdown",
   "id": "268c5741-a3c7-4627-b79b-d1767b4b27a1",
   "metadata": {},
   "source": [
    "**Assign Distance**\n",
    "\n",
    "Here we assign the distance to brake over is 100 meters, or 109 yards."
   ]
  },
  {
   "cell_type": "code",
   "execution_count": 70,
   "id": "d3e4ec69-f8e9-4aca-995b-8a42772179c3",
   "metadata": {
    "tags": []
   },
   "outputs": [],
   "source": [
    "distance_meters = 100\n",
    "distance_yards = convert_meters_to_yards(distance_meters)"
   ]
  },
  {
   "cell_type": "markdown",
   "id": "2559258c-376d-465f-a0ee-d69b796c8781",
   "metadata": {},
   "source": [
    "**DataFrame Template**\n",
    "\n",
    "Here we create a dictionary of the data we want to save an empty lists for the data to by cycled into."
   ]
  },
  {
   "cell_type": "code",
   "execution_count": 71,
   "id": "bbf5edd2-3fa9-49e4-9b4f-1cec4bcf6ef2",
   "metadata": {
    "tags": []
   },
   "outputs": [],
   "source": [
    "data = {\n",
    "    'Snowstorm': [],\n",
    "    'Speed (mph)': [],\n",
    "    'Sedan Max Traction Force (N)': [],\n",
    "    'Truck Max Traction Force (N)': [],\n",
    "    'Sedan Brake Force (N)': [],\n",
    "    'Truck Brake Force (N)': [],\n",
    "    'Sedan Slide': [],\n",
    "    'Truck Slide': [],\n",
    "}"
   ]
  },
  {
   "cell_type": "markdown",
   "id": "45c9fcb0-b3d9-4a84-b59c-d589648a9b51",
   "metadata": {},
   "source": [
    "**For Loop**\n",
    "\n",
    "First we iterate over each snowstorm in the snowstorm list and print out which kind of storm we are analyzing.In the innerloop, we work with speeds 1-35 meters per second. We declare the variables we are looking to be returned to find out if each vehicle will slide, the brake force of each vehicle, and the traction force of each vehicle. We call the functions to perform our calculations and then append our data into the dictionary in the appropriate lists. There are two conditional statements in the inner loop. One checks to see if either the truck or sedan will slide at the current speed. If they do the program prints a string containing data about each vehicle. If they both slide the program will break out of the inner loop and move onto the next snow storm. "
   ]
  },
  {
   "cell_type": "code",
   "execution_count": 72,
   "id": "e68d72a7-666f-4477-998f-7b4acad87223",
   "metadata": {
    "tags": []
   },
   "outputs": [
    {
     "name": "stdout",
     "output_type": "stream",
     "text": [
      "Light Snow\n",
      "Sedan traveling at 55.923500000000004 mph and braking with 4687.5 N: and traction level of 4414.5 N: Slide = True\n",
      "Truck traveling at 55.923500000000004 mph and braking with 7031.25 N: and traction level of 6621.75 N: Slide = True\n",
      "Distance: 109.36099999999999 yards\n",
      "Moderate Snow\n",
      "Sedan traveling at 44.738800000000005 mph and braking with 3000.0 N: and traction level of 2943.0 N: Slide = True\n",
      "Truck traveling at 44.738800000000005 mph and braking with 4500.0 N: and traction level of 4414.5 N: Slide = True\n",
      "Distance: 109.36099999999999 yards\n",
      "Heavy Snow Fall\n",
      "Sedan traveling at 33.554100000000005 mph and braking with 1687.5 N: and traction level of 1471.5 N: Slide = True\n",
      "Truck traveling at 33.554100000000005 mph and braking with 2531.25 N: and traction level of 2207.25 N: Slide = True\n",
      "Distance: 109.36099999999999 yards\n"
     ]
    }
   ],
   "source": [
    "for snowstorm in snowstorms:\n",
    "    print(snowstorm[1])\n",
    "    for i in range(1, 35):  # Speed in m/s\n",
    "        slide_sedan, brake_force_sedan, max_traction_sedan = will_vehicle_slide(sedan, i, distance_meters, snowstorm[0])\n",
    "        slide_truck, brake_force_truck, max_traction_truck = will_vehicle_slide(truck, i, distance_meters, snowstorm[0])\n",
    "\n",
    "        speed_mph = convert_mps_to_mph(i)\n",
    "\n",
    "        data['Snowstorm'].append(snowstorm[1])\n",
    "        data['Speed (mph)'].append(speed_mph)\n",
    "        data['Sedan Max Traction Force (N)'].append(max_traction_sedan)\n",
    "        data['Truck Max Traction Force (N)'].append(max_traction_truck)\n",
    "        data['Sedan Brake Force (N)'].append(brake_force_sedan)\n",
    "        data['Truck Brake Force (N)'].append(brake_force_truck)\n",
    "        data['Sedan Slide'].append(int(slide_sedan))\n",
    "        data['Truck Slide'].append(int(slide_truck))\n",
    "        \n",
    "        if slide_sedan or slide_truck:\n",
    "            print(f'Sedan traveling at {speed_mph} mph and braking with {brake_force_sedan} N: and traction level of {max_traction_sedan} N: Slide = {slide_sedan}')\n",
    "            print(f'Truck traveling at {speed_mph} mph and braking with {brake_force_truck} N: and traction level of {max_traction_truck} N: Slide = {slide_truck}')\n",
    "            print(f'Distance: {distance_yards} yards')\n",
    "        if slide_sedan and slide_truck:\n",
    "            break"
   ]
  },
  {
   "cell_type": "markdown",
   "id": "db1f69e8-250a-4668-8d81-0553483d60b3",
   "metadata": {},
   "source": [
    "**Create Our DataFrame**\n",
    "\n",
    "This dataframe contains the type of storm, speed, traction force of both vehicles brake force of both vehicles, and weather or not they slide at that speed. Speeds that contain sliding vehicle are marked with a '1' in the in the slide field. The sedans and trucks are sliding at the same speeds. "
   ]
  },
  {
   "cell_type": "code",
   "execution_count": 73,
   "id": "d4346a6b-6608-4a88-b74c-502566173fd8",
   "metadata": {
    "tags": []
   },
   "outputs": [
    {
     "name": "stdout",
     "output_type": "stream",
     "text": [
      "          Snowstorm  Speed (mph)  Sedan Max Traction Force (N)  \\\n",
      "0        Light Snow      2.23694                        4414.5   \n",
      "1        Light Snow      4.47388                        4414.5   \n",
      "2        Light Snow      6.71082                        4414.5   \n",
      "3        Light Snow      8.94776                        4414.5   \n",
      "4        Light Snow     11.18470                        4414.5   \n",
      "5        Light Snow     13.42164                        4414.5   \n",
      "6        Light Snow     15.65858                        4414.5   \n",
      "7        Light Snow     17.89552                        4414.5   \n",
      "8        Light Snow     20.13246                        4414.5   \n",
      "9        Light Snow     22.36940                        4414.5   \n",
      "10       Light Snow     24.60634                        4414.5   \n",
      "11       Light Snow     26.84328                        4414.5   \n",
      "12       Light Snow     29.08022                        4414.5   \n",
      "13       Light Snow     31.31716                        4414.5   \n",
      "14       Light Snow     33.55410                        4414.5   \n",
      "15       Light Snow     35.79104                        4414.5   \n",
      "16       Light Snow     38.02798                        4414.5   \n",
      "17       Light Snow     40.26492                        4414.5   \n",
      "18       Light Snow     42.50186                        4414.5   \n",
      "19       Light Snow     44.73880                        4414.5   \n",
      "20       Light Snow     46.97574                        4414.5   \n",
      "21       Light Snow     49.21268                        4414.5   \n",
      "22       Light Snow     51.44962                        4414.5   \n",
      "23       Light Snow     53.68656                        4414.5   \n",
      "24       Light Snow     55.92350                        4414.5   \n",
      "25    Moderate Snow      2.23694                        2943.0   \n",
      "26    Moderate Snow      4.47388                        2943.0   \n",
      "27    Moderate Snow      6.71082                        2943.0   \n",
      "28    Moderate Snow      8.94776                        2943.0   \n",
      "29    Moderate Snow     11.18470                        2943.0   \n",
      "30    Moderate Snow     13.42164                        2943.0   \n",
      "31    Moderate Snow     15.65858                        2943.0   \n",
      "32    Moderate Snow     17.89552                        2943.0   \n",
      "33    Moderate Snow     20.13246                        2943.0   \n",
      "34    Moderate Snow     22.36940                        2943.0   \n",
      "35    Moderate Snow     24.60634                        2943.0   \n",
      "36    Moderate Snow     26.84328                        2943.0   \n",
      "37    Moderate Snow     29.08022                        2943.0   \n",
      "38    Moderate Snow     31.31716                        2943.0   \n",
      "39    Moderate Snow     33.55410                        2943.0   \n",
      "40    Moderate Snow     35.79104                        2943.0   \n",
      "41    Moderate Snow     38.02798                        2943.0   \n",
      "42    Moderate Snow     40.26492                        2943.0   \n",
      "43    Moderate Snow     42.50186                        2943.0   \n",
      "44    Moderate Snow     44.73880                        2943.0   \n",
      "45  Heavy Snow Fall      2.23694                        1471.5   \n",
      "46  Heavy Snow Fall      4.47388                        1471.5   \n",
      "47  Heavy Snow Fall      6.71082                        1471.5   \n",
      "48  Heavy Snow Fall      8.94776                        1471.5   \n",
      "49  Heavy Snow Fall     11.18470                        1471.5   \n",
      "50  Heavy Snow Fall     13.42164                        1471.5   \n",
      "51  Heavy Snow Fall     15.65858                        1471.5   \n",
      "52  Heavy Snow Fall     17.89552                        1471.5   \n",
      "53  Heavy Snow Fall     20.13246                        1471.5   \n",
      "54  Heavy Snow Fall     22.36940                        1471.5   \n",
      "55  Heavy Snow Fall     24.60634                        1471.5   \n",
      "56  Heavy Snow Fall     26.84328                        1471.5   \n",
      "57  Heavy Snow Fall     29.08022                        1471.5   \n",
      "58  Heavy Snow Fall     31.31716                        1471.5   \n",
      "59  Heavy Snow Fall     33.55410                        1471.5   \n",
      "\n",
      "    Truck Max Traction Force (N)  Sedan Brake Force (N)  \\\n",
      "0                        6621.75                    7.5   \n",
      "1                        6621.75                   30.0   \n",
      "2                        6621.75                   67.5   \n",
      "3                        6621.75                  120.0   \n",
      "4                        6621.75                  187.5   \n",
      "5                        6621.75                  270.0   \n",
      "6                        6621.75                  367.5   \n",
      "7                        6621.75                  480.0   \n",
      "8                        6621.75                  607.5   \n",
      "9                        6621.75                  750.0   \n",
      "10                       6621.75                  907.5   \n",
      "11                       6621.75                 1080.0   \n",
      "12                       6621.75                 1267.5   \n",
      "13                       6621.75                 1470.0   \n",
      "14                       6621.75                 1687.5   \n",
      "15                       6621.75                 1920.0   \n",
      "16                       6621.75                 2167.5   \n",
      "17                       6621.75                 2430.0   \n",
      "18                       6621.75                 2707.5   \n",
      "19                       6621.75                 3000.0   \n",
      "20                       6621.75                 3307.5   \n",
      "21                       6621.75                 3630.0   \n",
      "22                       6621.75                 3967.5   \n",
      "23                       6621.75                 4320.0   \n",
      "24                       6621.75                 4687.5   \n",
      "25                       4414.50                    7.5   \n",
      "26                       4414.50                   30.0   \n",
      "27                       4414.50                   67.5   \n",
      "28                       4414.50                  120.0   \n",
      "29                       4414.50                  187.5   \n",
      "30                       4414.50                  270.0   \n",
      "31                       4414.50                  367.5   \n",
      "32                       4414.50                  480.0   \n",
      "33                       4414.50                  607.5   \n",
      "34                       4414.50                  750.0   \n",
      "35                       4414.50                  907.5   \n",
      "36                       4414.50                 1080.0   \n",
      "37                       4414.50                 1267.5   \n",
      "38                       4414.50                 1470.0   \n",
      "39                       4414.50                 1687.5   \n",
      "40                       4414.50                 1920.0   \n",
      "41                       4414.50                 2167.5   \n",
      "42                       4414.50                 2430.0   \n",
      "43                       4414.50                 2707.5   \n",
      "44                       4414.50                 3000.0   \n",
      "45                       2207.25                    7.5   \n",
      "46                       2207.25                   30.0   \n",
      "47                       2207.25                   67.5   \n",
      "48                       2207.25                  120.0   \n",
      "49                       2207.25                  187.5   \n",
      "50                       2207.25                  270.0   \n",
      "51                       2207.25                  367.5   \n",
      "52                       2207.25                  480.0   \n",
      "53                       2207.25                  607.5   \n",
      "54                       2207.25                  750.0   \n",
      "55                       2207.25                  907.5   \n",
      "56                       2207.25                 1080.0   \n",
      "57                       2207.25                 1267.5   \n",
      "58                       2207.25                 1470.0   \n",
      "59                       2207.25                 1687.5   \n",
      "\n",
      "    Truck Brake Force (N)  Sedan Slide  Truck Slide  \n",
      "0                   11.25            0            0  \n",
      "1                   45.00            0            0  \n",
      "2                  101.25            0            0  \n",
      "3                  180.00            0            0  \n",
      "4                  281.25            0            0  \n",
      "5                  405.00            0            0  \n",
      "6                  551.25            0            0  \n",
      "7                  720.00            0            0  \n",
      "8                  911.25            0            0  \n",
      "9                 1125.00            0            0  \n",
      "10                1361.25            0            0  \n",
      "11                1620.00            0            0  \n",
      "12                1901.25            0            0  \n",
      "13                2205.00            0            0  \n",
      "14                2531.25            0            0  \n",
      "15                2880.00            0            0  \n",
      "16                3251.25            0            0  \n",
      "17                3645.00            0            0  \n",
      "18                4061.25            0            0  \n",
      "19                4500.00            0            0  \n",
      "20                4961.25            0            0  \n",
      "21                5445.00            0            0  \n",
      "22                5951.25            0            0  \n",
      "23                6480.00            0            0  \n",
      "24                7031.25            1            1  \n",
      "25                  11.25            0            0  \n",
      "26                  45.00            0            0  \n",
      "27                 101.25            0            0  \n",
      "28                 180.00            0            0  \n",
      "29                 281.25            0            0  \n",
      "30                 405.00            0            0  \n",
      "31                 551.25            0            0  \n",
      "32                 720.00            0            0  \n",
      "33                 911.25            0            0  \n",
      "34                1125.00            0            0  \n",
      "35                1361.25            0            0  \n",
      "36                1620.00            0            0  \n",
      "37                1901.25            0            0  \n",
      "38                2205.00            0            0  \n",
      "39                2531.25            0            0  \n",
      "40                2880.00            0            0  \n",
      "41                3251.25            0            0  \n",
      "42                3645.00            0            0  \n",
      "43                4061.25            0            0  \n",
      "44                4500.00            1            1  \n",
      "45                  11.25            0            0  \n",
      "46                  45.00            0            0  \n",
      "47                 101.25            0            0  \n",
      "48                 180.00            0            0  \n",
      "49                 281.25            0            0  \n",
      "50                 405.00            0            0  \n",
      "51                 551.25            0            0  \n",
      "52                 720.00            0            0  \n",
      "53                 911.25            0            0  \n",
      "54                1125.00            0            0  \n",
      "55                1361.25            0            0  \n",
      "56                1620.00            0            0  \n",
      "57                1901.25            0            0  \n",
      "58                2205.00            0            0  \n",
      "59                2531.25            1            1  \n"
     ]
    }
   ],
   "source": [
    "df = pd.DataFrame(data)\n",
    "print(df)"
   ]
  },
  {
   "cell_type": "markdown",
   "id": "fac90068-65b1-486c-ba8e-0151672a1e5c",
   "metadata": {},
   "source": [
    "**Visualization**\n",
    "\n",
    "This visualization showcases the affect speed has on brake force. As speed increases the amount of force required to brake increases. When brake force is higher than traction force, cars start to slide."
   ]
  },
  {
   "cell_type": "code",
   "execution_count": 63,
   "id": "bf39da39-978f-4fd6-a028-545026729c39",
   "metadata": {},
   "outputs": [
    {
     "data": {
      "image/png": "[encoded data removed]",
      "text/plain": [
       "<Figure size 640x480 with 1 Axes>"
      ]
     },
     "metadata": {},
     "output_type": "display_data"
    }
   ],
   "source": [
    "plt.plot(df['Speed (mph)'], df['Sedan Brake Force (N)'], label='Sedan')\n",
    "plt.plot(df['Speed (mph)'], df['Truck Brake Force (N)'], label='Truck')\n",
    "plt.xlabel('Speed (mph)')\n",
    "plt.ylabel('Brake Force (N)')\n",
    "plt.legend()\n",
    "plt.title('Braking Force vs. Speed')\n",
    "plt.show()"
   ]
  },
  {
   "cell_type": "markdown",
   "id": "205c7b62-0e6e-4725-8db4-5c95a0292b93",
   "metadata": {},
   "source": [
    "## Conclusion\n",
    "\n",
    "Mass has little to do with how much a vehiclde slides because the brake force it is able to handle increases in ratio. However, speed increases the brake force. So when the speed causes the brake force to become greater than the force of traction the car will begin to slide. Based on the data provided by the expirement and the variables tested, neither vehicle is more likely to slide than the other and both begin sliding at about the same speed. Happy Winter and safe driving!"
   ]
  }
 ],
 "metadata": {
  "kernelspec": {
   "display_name": "Python 3 (ipykernel)",
   "language": "python",
   "name": "python3"
  },
  "language_info": {
   "codemirror_mode": {
    "name": "ipython",
    "version": 3
   },
   "file_extension": ".py",
   "mimetype": "text/x-python",
   "name": "python",
   "nbconvert_exporter": "python",
   "pygments_lexer": "ipython3",
   "version": "3.11.5"
  }
 },
 "nbformat": 4,
 "nbformat_minor": 5
}
